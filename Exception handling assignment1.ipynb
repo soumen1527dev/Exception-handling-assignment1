{
 "cells": [
  {
   "cell_type": "code",
   "execution_count": 1,
   "id": "e5fee0ca-6d40-4072-b76b-e82da6de9367",
   "metadata": {},
   "outputs": [],
   "source": [
    "# Q1. What is an Exception in python? Write the difference between Exceptions and syntax errors.\n",
    "# Ans :-\n",
    "\n",
    "# Exception :- In Python, an exception is an abnormal event or error that occurs during the execution of a program.\n",
    "# When an exceptional condition arises that disrupts the normal flow of a program, Python generates an \n",
    "# exception object. This exception object contains information about the error, such as its type and a \n",
    "# description of what went wrong.\n",
    "\n",
    "# Exceptions and syntax errors are both types of errors in Python, but they occur at different stages of program \n",
    "# execution and have distinct characteristics. Here are the key differences between them:\n",
    "    \n",
    "# 1.Nature of Error:\n",
    "    \n",
    "#     Syntax Error: Syntax errors, also known as parsing errors, occur when the Python interpreter encounters \n",
    "#     code that violates the language's grammar rules. These errors occur during the parsing phase, before the \n",
    "#     program starts executing. Syntax errors typically involve issues like missing colons, unmatched parentheses, \n",
    "#     or incorrect indentation.\n",
    "    \n",
    "#     Exception: Exceptions, on the other hand, are runtime errors that occur during the execution of a Python program. \n",
    "#     They are typically caused by exceptional conditions or unexpected events, such as division by zero, trying to access \n",
    "#     an index that doesn't exist, or attempting to open a non-existent file.\n",
    "    \n",
    "    \n",
    "# 2.Occurrence:\n",
    "    \n",
    "#     Syntax Error: Syntax errors are detected and reported by the Python interpreter before the program begins executing. \n",
    "#     The program won't run until these syntax errors are fixed.\n",
    "    \n",
    "#     Exception: Exceptions occur during program execution, so the program runs but may encounter exceptions when certain \n",
    "#     conditions are met.\n",
    "    \n",
    "# 3.Handling:\n",
    "    \n",
    "#     Syntax Error: Syntax errors must be fixed in the code before you can run the program. They do not have built-in \n",
    "#     mechanisms for handling; you must correct the code structure.\n",
    "    \n",
    "#     Exception: Exceptions can be handled using try...except blocks. You can write code to gracefully handle exceptions, \n",
    "#     allowing the program to continue running even in the presence of errors.\n",
    "    \n",
    "# 4.Debugging:\n",
    "    \n",
    "#     Syntax Error: Syntax errors are relatively easy to debug because the interpreter points to the exact location \n",
    "#     in the code where the error occurred, making it clear what needs to be fixed.\n",
    "    \n",
    "#     Exception: Debugging exceptions can be more challenging because the error may occur deeper within the code.\n",
    "#     Using try...except blocks and logging can help identify the cause of exceptions."
   ]
  },
  {
   "cell_type": "code",
   "execution_count": 2,
   "id": "63d25170-8428-493a-978f-bc41ee325c53",
   "metadata": {},
   "outputs": [
    {
     "name": "stdout",
     "output_type": "stream",
     "text": [
      "An error occurred: division by zero\n",
      "This line will be reached because the exception was handled.\n"
     ]
    }
   ],
   "source": [
    "# Q2. What happens when an exception is not handled? Explin with an example.\n",
    "# Ans :-\n",
    "\n",
    "# When an exception is not handled in a Python program, it leads to the program's termination, and an error message is \n",
    "# displayed that provides information about the unhandled exception. This termination occurs because the Python interpreter \n",
    "# does not know how to proceed when it encounters an exception that is not caught and handled by the program.\n",
    "\n",
    "# Here's an example to illustrate what happens when an exception is not handled:\n",
    "\n",
    "# # Example: Division by zero without handling the exception\n",
    "\n",
    "# result = 10 / 0  # This will raise a ZeroDivisionError\n",
    "# print(\"This line will not be reached because of the unhandled exception.\")\n",
    "\n",
    "\n",
    "# In this example, we attempt to divide 10 by 0, which is not allowed in mathematics, and it raises a ZeroDivisionError \n",
    "# exception. Since there is no try...except block or any other mechanism to handle this exception, the program is terminated, \n",
    "# and you will see an error message like this:\n",
    "    \n",
    "# ZeroDivisionError: division by zero\n",
    "\n",
    "# The error message indicates the type of exception (ZeroDivisionError) and provides additional information about what caused the error (division by zero).\n",
    "\n",
    "# To prevent the program from terminating when an exception occurs, you can use a try...except block to catch and handle the exception.\n",
    "# Here's the same example with exception handling:\n",
    "\n",
    "# Example: Handling the ZeroDivisionError exception\n",
    "\n",
    "try:\n",
    "    result = 10 / 0  # This will raise a ZeroDivisionError\n",
    "except ZeroDivisionError as e:\n",
    "    print(\"An error occurred:\", e)\n",
    "\n",
    "print(\"This line will be reached because the exception was handled.\")\n",
    "\n",
    "\n",
    "# In this version of the code, the ZeroDivisionError is caught and handled in the except block, allowing the program to continue \n",
    "# running after the exception is encountered. The output will be:"
   ]
  },
  {
   "cell_type": "code",
   "execution_count": 3,
   "id": "ae8d56d2-9cd4-451c-82ee-7ed276346ac0",
   "metadata": {},
   "outputs": [
    {
     "name": "stdout",
     "output_type": "stream",
     "text": [
      "An error occurred: division by zero\n"
     ]
    }
   ],
   "source": [
    "# Q3. Which Python statements are used to catch and handle exceptions? Explain with an example.\n",
    "# Ans :-\n",
    "\n",
    "# In Python, the statements used to catch and handle exceptions are try and except. The try block is used to enclose the code where you anticipate an exception might occur, \n",
    "# and the except block is used to specify how you want to handle the exception if it occurs.\n",
    "\n",
    "# Example :-\n",
    "\n",
    "try:\n",
    "    x = 10 / 0  # This will raise a ZeroDivisionError\n",
    "except ZeroDivisionError as e:\n",
    "    print(\"An error occurred:\", e)"
   ]
  },
  {
   "cell_type": "code",
   "execution_count": 5,
   "id": "1b5b1143-3c90-4156-be87-d1d134418223",
   "metadata": {},
   "outputs": [
    {
     "name": "stdout",
     "output_type": "stream",
     "text": [
      "This will be executed once your try will execute without error\n"
     ]
    }
   ],
   "source": [
    "# Q4. Explain with an example:\n",
    "#     1.try and else\n",
    "#     2.finally\n",
    "#     3.raise\n",
    "# Ans :-\n",
    "\n",
    "#try and else Example:-\n",
    "\n",
    "try:\n",
    "    f = open (\"test.txt\", 'w')\n",
    "    f.write(\"Write into my file\")\n",
    "except Exception as e :\n",
    "    print (\"This is my except block\", e)\n",
    "    \n",
    "else :\n",
    "    f.close()\n",
    "    print (\"This will be executed once your try will execute without error\")"
   ]
  },
  {
   "cell_type": "code",
   "execution_count": 8,
   "id": "ff032f75-fb44-43fb-8d88-5b226f66e556",
   "metadata": {},
   "outputs": [
    {
     "name": "stdout",
     "output_type": "stream",
     "text": [
      "Finally will execute itself in any situation\n"
     ]
    }
   ],
   "source": [
    "#2.finally Example :-\n",
    "\n",
    "try :\n",
    "    f = open (\"test1.txt\", 'w')\n",
    "    f.write(\"I am doing this assignment\")\n",
    "    \n",
    "finally :\n",
    "    print (\"Finally will execute itself in any situation\")"
   ]
  },
  {
   "cell_type": "code",
   "execution_count": 9,
   "id": "528d011c-4490-4d80-a784-ec7f57a733e0",
   "metadata": {},
   "outputs": [],
   "source": [
    "#3.raise Example :-\n",
    "\n",
    "class a(Exception):\n",
    "    def __init__(self, msg):\n",
    "        self.msg = msg\n",
    "        "
   ]
  },
  {
   "cell_type": "code",
   "execution_count": 10,
   "id": "ed1ce436-bb60-4ed9-a926-1b5db9273a49",
   "metadata": {},
   "outputs": [],
   "source": [
    "def b(age):\n",
    "    if age < 0:\n",
    "        raise a(\"Entered age is negative\")\n",
    "    elif age > 200:\n",
    "        raise a(\"Entered age is very very high\")\n",
    "    else:\n",
    "        print (\"Age is valid\")"
   ]
  },
  {
   "cell_type": "code",
   "execution_count": 11,
   "id": "4b522e67-4d3c-4493-8968-600ec480745f",
   "metadata": {},
   "outputs": [
    {
     "name": "stdin",
     "output_type": "stream",
     "text": [
      "Enter your age: 18\n"
     ]
    },
    {
     "name": "stdout",
     "output_type": "stream",
     "text": [
      "Age is valid\n"
     ]
    }
   ],
   "source": [
    "try :\n",
    "    age = int (input(\"Enter your age:\"))\n",
    "    b(age)\n",
    "except a as e:\n",
    "    print (e)"
   ]
  },
  {
   "cell_type": "code",
   "execution_count": 12,
   "id": "94f83b37-5889-432f-8291-c53c369fde17",
   "metadata": {},
   "outputs": [
    {
     "name": "stdin",
     "output_type": "stream",
     "text": [
      "Enter a positive integer:  12\n"
     ]
    }
   ],
   "source": [
    "# Q5.What are Custom Exceptions in python? Why do we need Custom Exceptions? Explain with an example.\n",
    "# Ans :-\n",
    "\n",
    "# Custom exceptions :- Custom exceptions, also known as user-defined exceptions, are exceptions that you create in Python to represent specific error c\n",
    "# onditions or exceptional situations in your code. While Python provides a wide range of built-in exceptions (e.g., ValueError, ZeroDivisionError),\n",
    "# there are situations where these built-in exceptions may not precisely describe the error you want to handle. In such cases, you can define \n",
    "# your own custom exceptions to make your code more readable and maintainable.\n",
    "\n",
    "# Why do we need custom exceptions :-\n",
    "\n",
    "# Custom exceptions in Python serve several important purposes and can greatly improve the clarity and maintainability of your code. \n",
    "# Here are some reasons why you might need custom exceptions:\n",
    "    \n",
    "# 1.Clarity and Readability: Custom exceptions provide meaningful names and error messages that make it easier to understand the specific \n",
    "# issue when an error occurs. This enhances code readability and helps developers quickly identify the root cause of a problem.\n",
    "\n",
    "# 2.Distinguish Different Errors: In complex applications, you may encounter multiple types of errors or exceptional situations. Custom exceptions \n",
    "# allow you to create distinct exception classes for each type of error, making it easier to handle them appropriately. This distinguishes between \n",
    "# different error conditions and allows you to provide specific error handling logic for each.\n",
    "\n",
    "# 3.Centralized Error Handling: By using custom exceptions, you can centralize the handling of specific error conditions in your code. This can \n",
    "# lead to more maintainable code because you don't scatter error-checking and handling logic throughout your program. Instead, you can handle \n",
    "# exceptions in a dedicated section of your code.\n",
    "\n",
    "# 4.Documentation and Self-Explanatory Code: Well-named custom exceptions serve as documentation for your code. When someone reads your code or \n",
    "# uses your library, they can understand the possible error conditions just by looking at the exception names. This makes the code self-explanatory \n",
    "# and reduces the need for extensive comments or documentation.\n",
    "\n",
    "# 5.Extensibility: Custom exception classes can include additional attributes or methods that carry more information about the error or perform \n",
    "# specific actions when the exception is raised. This can be especially useful when you want to provide more context about the error or implement custom error-handling behaviors.\n",
    "\n",
    "# 6.Integration with Third-Party Libraries: When working with third-party libraries or APIs, custom exceptions can help you map and handle errors \n",
    "# specific to those external components. This allows you to create a unified error-handling strategy across your application.\n",
    "\n",
    "# 7.Testing: Custom exceptions make it easier to write unit tests for your code. You can specifically target the custom exceptions to ensure that \n",
    "# the correct exceptions are raised under different conditions.\n",
    "\n",
    "\n",
    "# Example :-\n",
    "\n",
    "# Custom Exception for Invalid Input:\n",
    "class InvalidInputError(Exception):\n",
    "    def __init__(self, input_value):\n",
    "        self.input_value = input_value\n",
    "        self.message = f\"Invalid input: {input_value}\"\n",
    "        super().__init__(self.message)\n",
    "\n",
    "def process_input(input_value):\n",
    "    if not isinstance(input_value, int) or input_value <= 0:\n",
    "        raise InvalidInputError(input_value)\n",
    "\n",
    "try:\n",
    "    user_input = int(input(\"Enter a positive integer: \"))\n",
    "    process_input(user_input)\n",
    "except InvalidInputError as e:\n",
    "    print(e)"
   ]
  },
  {
   "cell_type": "code",
   "execution_count": 21,
   "id": "8770944c-44d0-4b4e-a28b-614ab8080351",
   "metadata": {},
   "outputs": [
    {
     "name": "stdout",
     "output_type": "stream",
     "text": [
      "Custom Exception Caught: Division by zero is not allowed.\n"
     ]
    }
   ],
   "source": [
    "# Q6.Create a custom exception class. Use this class to handle an exception.\n",
    "# Ans :\n",
    "    \n",
    "class CustomException(Exception):\n",
    "    def __init__(self, message=\"A custom exception occurred\"):\n",
    "        self.message = message\n",
    "        super().__init__(self.message)\n",
    "\n",
    "def divide_numbers(a, b):\n",
    "    if b == 0:\n",
    "        raise CustomException(\"Division by zero is not allowed.\")\n",
    "    return a / b\n",
    "\n",
    "try:\n",
    "    result = divide_numbers(10, 0)\n",
    "    print(\"Result:\", result)\n",
    "except CustomException as ce:\n",
    "    print(\"Custom Exception Caught:\", ce)"
   ]
  },
  {
   "cell_type": "code",
   "execution_count": null,
   "id": "5087be8d-d901-4292-af06-520ed5c59bc8",
   "metadata": {},
   "outputs": [],
   "source": []
  }
 ],
 "metadata": {
  "kernelspec": {
   "display_name": "Python 3 (ipykernel)",
   "language": "python",
   "name": "python3"
  },
  "language_info": {
   "codemirror_mode": {
    "name": "ipython",
    "version": 3
   },
   "file_extension": ".py",
   "mimetype": "text/x-python",
   "name": "python",
   "nbconvert_exporter": "python",
   "pygments_lexer": "ipython3",
   "version": "3.10.8"
  }
 },
 "nbformat": 4,
 "nbformat_minor": 5
}
